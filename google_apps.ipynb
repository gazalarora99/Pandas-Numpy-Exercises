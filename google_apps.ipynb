{
 "cells": [
  {
   "cell_type": "code",
   "execution_count": 23,
   "metadata": {},
   "outputs": [],
   "source": [
    "import pandas as pd\n",
    "import numpy as np\n",
    "import re"
   ]
  },
  {
   "cell_type": "code",
   "execution_count": 24,
   "metadata": {},
   "outputs": [],
   "source": [
    "df = pd.read_excel('GooglePlaystore.xlsx')"
   ]
  },
  {
   "cell_type": "markdown",
   "metadata": {},
   "source": [
    "#### PART 1: PREPROCESSING"
   ]
  },
  {
   "cell_type": "code",
   "execution_count": 25,
   "metadata": {},
   "outputs": [],
   "source": [
    "# Delete row where 'Reviews' == 3.0M\n",
    "df = df[df['Reviews'] != '3.0M']\n",
    "\n",
    "# Delete rows where any column == 'Varies with device'\n",
    "df = df[~df.isin(['Varies with device']).any(axis=1)]\n",
    "\n",
    "# Strip trailing non-numeric characters from Android version\n",
    "def clean_ver(ver):\n",
    "    match = re.search('\\d+\\.\\d+', str(ver))\n",
    "    if match:\n",
    "        return float(match.group())\n",
    "    return np.nan\n",
    "\n",
    "df['Android Ver'] = df['Android Ver'].apply(clean_ver)\n",
    "\n",
    "# Convert installs to int and drop other rows\n",
    "def clean_installs(installs):\n",
    "    ret = re.sub('[,\\+]', '', installs)\n",
    "    try:\n",
    "        ret = int(ret)\n",
    "    except ValueError as ex:\n",
    "        ret = np.nan\n",
    "    return ret\n",
    "\n",
    "df['Installs'] = df['Installs'].apply(clean_installs)\n",
    "df = df[df['Installs'] != np.nan]\n",
    "\n",
    "# Fill missing ratings and drop unrated unpopular apps\n",
    "df = df[((df['Installs'] >= 50000) | (df['Reviews'] >= 100)) | ~df['Rating'].isna()]\n",
    "df['Rating'] = df['Rating'].fillna(round(df['Rating'].mean(), 2))\n",
    "\n",
    "# Turn size into int\n",
    "def clean_size(size):\n",
    "    match = re.search(\"(?P<num>\\d*\\.?\\d+)(?P<exp>\\w)\", size)\n",
    "    if (match):\n",
    "        mdict = match.groupdict()\n",
    "        xdict = {'M' : 6, 'K' : 3}\n",
    "        num = float(mdict['num'])\n",
    "        exp = xdict[mdict['exp'].upper()]\n",
    "        return num * (10 ** exp)\n",
    "    return size\n",
    "\n",
    "df['Size'] = df['Size'].apply(clean_size)"
   ]
  },
  {
   "cell_type": "markdown",
   "metadata": {},
   "source": [
    "#### PART 2: ANALYSIS"
   ]
  },
  {
   "cell_type": "code",
   "execution_count": null,
   "metadata": {},
   "outputs": [],
   "source": []
  }
 ],
 "metadata": {
  "kernelspec": {
   "display_name": "Python 3",
   "language": "python",
   "name": "python3"
  },
  "language_info": {
   "codemirror_mode": {
    "name": "ipython",
    "version": 3
   },
   "file_extension": ".py",
   "mimetype": "text/x-python",
   "name": "python",
   "nbconvert_exporter": "python",
   "pygments_lexer": "ipython3",
   "version": "3.8.3"
  }
 },
 "nbformat": 4,
 "nbformat_minor": 4
}
